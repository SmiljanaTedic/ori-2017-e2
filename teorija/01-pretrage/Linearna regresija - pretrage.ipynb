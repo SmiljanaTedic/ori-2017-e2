{
 "cells": [
  {
   "cell_type": "code",
   "execution_count": null,
   "metadata": {
    "collapsed": true
   },
   "outputs": [],
   "source": []
  },
  {
   "cell_type": "code",
   "execution_count": 34,
   "metadata": {
    "collapsed": false
   },
   "outputs": [
    {
     "data": {
      "text/plain": [
       "<matplotlib.text.Text at 0x7fbe87c61150>"
      ]
     },
     "execution_count": 34,
     "metadata": {},
     "output_type": "execute_result"
    },
    {
     "data": {
      "image/png": "[encoded data removed]",
      "text/plain": [
       "<matplotlib.figure.Figure at 0x7fbe87ff3090>"
      ]
     },
     "metadata": {},
     "output_type": "display_data"
    }
   ],
   "source": [
    "import numpy as np\n",
    "import random\n",
    "import matplotlib.pyplot as plt\n",
    "%matplotlib inline\n",
    "\n",
    "x = np.array([1, 2, 3, 4, 5, 6, 7]).astype(np.float32)\n",
    "y = np.array([2.1, 3.9, 5.7, 8.01, 10.1, 11.9, 13.7]).astype(np.float32)\n",
    "\n",
    "\n",
    "plt.scatter(x, y, alpha=.7,c='r')\n",
    "#plt.grid(True)\n",
    "plt.xlabel('x')\n",
    "plt.ylabel('y')\n",
    "\n"
   ]
  },
  {
   "cell_type": "code",
   "execution_count": 35,
   "metadata": {
    "collapsed": false
   },
   "outputs": [
    {
     "data": {
      "image/png": "[encoded data removed]",
      "text/plain": [
       "<matplotlib.figure.Figure at 0x7fbe87ec4bd0>"
      ]
     },
     "metadata": {},
     "output_type": "display_data"
    }
   ],
   "source": [
    "a = 1\n",
    "b = 0.1\n",
    "\n",
    "line_x_range = (0, 8)\n",
    "\n",
    "plt.scatter(x, y, alpha=.7,c='r')\n",
    "\n",
    "plt.plot(line_x_range, [a*xx+b for xx in line_x_range], \"g\", alpha=0.6)\n",
    "plt.show()"
   ]
  },
  {
   "cell_type": "code",
   "execution_count": 36,
   "metadata": {
    "collapsed": false
   },
   "outputs": [
    {
     "name": "stdout",
     "output_type": "stream",
     "text": [
      "3.0 5.7 2.0 3.9 3.0 5.7 1.0 2.1 7.0 13.7 3.0 5.7 4.0 8.01 7.0 13.7 6.0 11.9 4.0 8.01 7.0 13.7 2.0 3.9 7.0 13.7 5.0 10.1 6.0 11.9 1.0 2.1 1.0 2.1 7.0 13.7 3.0 5.7 3.0 5.7 4.0 8.01 6.0 11.9 2.0 3.9 4.0 8.01 6.0 11.9 6.0 11.9 3.0 5.7 6.0 11.9 6.0 11.9 2.0 3.9 6.0 11.9 5.0 10.1 5.0 10.1 6.0 11.9 2.0 3.9 2.0 3.9 1.0 2.1 6.0 11.9 3.0 5.7 5.0 10.1 2.0 3.9 3.0 5.7 1.0 2.1 7.0 13.7 5.0 10.1 6.0 11.9 6.0 11.9 4.0 8.01 5.0 10.1 6.0 11.9 2.0 3.9 2.0 3.9 6.0 11.9 1.0 2.1 7.0 13.7 5.0 10.1 1.0 2.1 1.0 2.1 1.0 2.1 1.0 2.1 7.0 13.7 5.0 10.1 6.0 11.9 5.0 10.1 4.0 8.01 5.0 10.1 6.0 11.9 2.0 3.9 7.0 13.7 6.0 11.9 6.0 11.9 7.0 13.7 6.0 11.9 4.0 8.01 3.0 5.7 2.0 3.9 6.0 11.9 3.0 5.7 4.0 8.01 3.0 5.7 7.0 13.7 3.0 5.7 3.0 5.7 5.0 10.1 1.0 2.1 4.0 8.01 2.0 3.9 6.0 11.9 1.0 2.1 5.0 10.1 5.0 10.1 6.0 11.9 3.0 5.7 7.0 13.7 5.0 10.1 3.0 5.7 6.0 11.9 5.0 10.1 4.0 8.01 5.0 10.1\n"
     ]
    }
   ],
   "source": [
    "for i in range(100):\n",
    "    c = random.randrange(len(x))\n",
    "    yy = a*x[c]+b\n",
    "    err = y[c] - yy\n",
    "    print x[c], y[c], \n",
    "\n",
    "\n"
   ]
  },
  {
   "cell_type": "code",
   "execution_count": null,
   "metadata": {
    "collapsed": true
   },
   "outputs": [],
   "source": []
  },
  {
   "cell_type": "code",
   "execution_count": null,
   "metadata": {
    "collapsed": true
   },
   "outputs": [],
   "source": []
  },
  {
   "cell_type": "code",
   "execution_count": null,
   "metadata": {
    "collapsed": true
   },
   "outputs": [],
   "source": []
  }
 ],
 "metadata": {
  "kernelspec": {
   "display_name": "Python 2",
   "language": "python",
   "name": "python2"
  },
  "language_info": {
   "codemirror_mode": {
    "name": "ipython",
    "version": 2
   },
   "file_extension": ".py",
   "mimetype": "text/x-python",
   "name": "python",
   "nbconvert_exporter": "python",
   "pygments_lexer": "ipython2",
   "version": "2.7.12"
  }
 },
 "nbformat": 4,
 "nbformat_minor": 2
}
