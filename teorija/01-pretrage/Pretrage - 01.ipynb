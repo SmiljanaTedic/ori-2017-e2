{
 "cells": [
  {
   "cell_type": "markdown",
   "metadata": {},
   "source": [
    "# Primeri koji prate prezentaciju\n",
    "\n",
    "\n",
    "## 1.Problem dve posude\n"
   ]
  },
  {
   "cell_type": "code",
   "execution_count": 85,
   "metadata": {
    "collapsed": false
   },
   "outputs": [],
   "source": [
    "from copy import copy\n",
    "\n",
    "class State:\n",
    "    def __init__(self, A, B):\n",
    "        self.posuda_1 = A\n",
    "        self.posuda_2 = B\n",
    "        \n",
    "    def __str__(self):\n",
    "        return \"{0}\\t{1}\".format(self.posuda_1, self.posuda_2)\n",
    "    \n",
    "class Problem:\n",
    "    def isGoal(self, state):\n",
    "        if state.posuda_1 == 2:\n",
    "            return True\n",
    "        else:\n",
    "            return False\n",
    "    \n",
    "    def firstState(self):\n",
    "        return State(0,0)\n",
    "    \n",
    "    def napuni_1(self, state):\n",
    "        s = copy(state)\n",
    "        s.posuda_1 = 4\n",
    "        return s\n",
    "\n",
    "    def napuni_2(self, state):\n",
    "        s = copy(state)\n",
    "        s.posuda_2 = 3\n",
    "        return s\n",
    "    \n",
    "    def sipaj_iz_1_u_2(self, state):\n",
    "        s = copy(state)\n",
    "        dp2 = 3 - s.posuda_2\n",
    "        dp1 = s.posuda_1 - dp2\n",
    "        if dp1<0:\n",
    "            dp1 = s.posuda_1\n",
    "        s.posuda_1 = s.posuda_1-dp2\n",
    "        s.posuda_2 = s.posuda_2+dp2\n",
    "        return s\n",
    "    \n",
    "    def sipaj_iz_2_u_1(self, state):\n",
    "        s = copy(state)\n",
    "        dp1 = 4 - s.posuda_1\n",
    "        dp2 = s.posuda_2 - dp1\n",
    "        if dp2<0:\n",
    "            dp2 = s.posuda_2\n",
    "        s.posuda_2 = s.posuda_2-dp1\n",
    "        s.posuda_1 = s.posuda_1+dp1\n",
    "        return s\n",
    "    \n",
    "    \n",
    "    def akcije(self, state):\n",
    "        return {\n",
    "            'A': self.napuni_1,\n",
    "            'B': self.napuni_2,\n",
    "            'C': self.sipaj_iz_1_u_2,\n",
    "            'D': self.sipaj_iz_2_u_1\n",
    "            \n",
    "        }                \n",
    "\n",
    "problem = Problem()    \n",
    "    \n",
    "class Node:\n",
    "    def __init__(self, parent, action, state):\n",
    "        self.parent = parent\n",
    "        self.action = action\n",
    "        self.state = state\n",
    "        \n",
    "    def __str__(self):\n",
    "        return str(self.state)\n",
    "        \n",
    "    def children(self):\n",
    "        akcije = problem.akcije(self.state)\n",
    "        ret = []\n",
    "        for n in akcije:\n",
    "            ns = akcije[n](self.state)\n",
    "            nnode = Node(self, n, ns)\n",
    "            ret.append(nnode)\n",
    "        return ret\n"
   ]
  },
  {
   "cell_type": "code",
   "execution_count": null,
   "metadata": {
    "collapsed": false
   },
   "outputs": [],
   "source": [
    "start = problem.firstState()\n",
    "print start\n",
    "\n",
    "start_node = Node(None, None, start)\n",
    "\n",
    "front = [start_node]\n",
    "\n",
    "while(len(front)>0):\n",
    "    node = front.pop(0)    \n",
    "    if problem.isGoal(node.state):\n",
    "        print node.parent, node.action, node.state\n",
    "        t = node\n",
    "        while t.parent != None:\n",
    "            print t.parent, t.action, t.state\n",
    "            t = t.parent\n",
    "        print 'reseno'\n",
    "        break    \n",
    "    children = node.children()\n",
    "    for child in children:\n",
    "        front.append(child)\n",
    "        print child.parent, child.action, child.state\n"
   ]
  },
  {
   "cell_type": "code",
   "execution_count": null,
   "metadata": {
    "collapsed": true
   },
   "outputs": [],
   "source": []
  }
 ],
 "metadata": {
  "kernelspec": {
   "display_name": "Python 2",
   "language": "python",
   "name": "python2"
  },
  "language_info": {
   "codemirror_mode": {
    "name": "ipython",
    "version": 2
   },
   "file_extension": ".py",
   "mimetype": "text/x-python",
   "name": "python",
   "nbconvert_exporter": "python",
   "pygments_lexer": "ipython2",
   "version": "2.7.6"
  }
 },
 "nbformat": 4,
 "nbformat_minor": 2
}
