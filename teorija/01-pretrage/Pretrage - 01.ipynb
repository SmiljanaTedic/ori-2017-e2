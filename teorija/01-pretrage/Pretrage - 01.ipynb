{
 "cells": [
  {
   "cell_type": "markdown",
   "metadata": {},
   "source": [
    "# Primeri koji prate prezentaciju\n",
    "\n",
    "\n",
    "## 1.Problem dve posude\n"
   ]
  },
  {
   "cell_type": "code",
   "execution_count": 34,
   "metadata": {
    "collapsed": false
   },
   "outputs": [],
   "source": [
    "from copy import copy\n",
    "\n",
    "class State:\n",
    "    def __init__(self, A, B):\n",
    "        self.posuda_1 = A\n",
    "        self.posuda_2 = B\n",
    "        \n",
    "    def __str__(self):\n",
    "        return \"{0}\\t{1}\".format(self.posuda_1, self.posuda_2)\n",
    "    \n",
    "    def children(self, problem):\n",
    "        akcije = problem.akcije(self)\n",
    "        ret = []\n",
    "        for n in akcije:\n",
    "            ret.append(akcije[n](self))\n",
    "        return ret\n",
    "    \n",
    "class Problem:\n",
    "\n",
    "    def isGoal(self, state):\n",
    "        if state.posuda_1 == 2:\n",
    "            return True\n",
    "        else:\n",
    "            return False\n",
    "    \n",
    "    def firstState(self):\n",
    "        return State(0,0)\n",
    "    \n",
    "    def napuni_1(self, state):\n",
    "        s = copy(state)\n",
    "        s.posuda_1 = 4\n",
    "        return s\n",
    "\n",
    "    def napuni_2(self, state):\n",
    "        s = copy(state)\n",
    "        s.posuda_2 = 3\n",
    "        return s\n",
    "    \n",
    "    def sipaj_iz_1_u_2(self, state):\n",
    "        s = copy(state)\n",
    "        d = 3 - s.posuda_2\n",
    "        n = s.posuda_1-d\n",
    "        return s\n",
    "    \n",
    "    def akcije(self, state):\n",
    "        return {\n",
    "            'A': self.napuni_1,\n",
    "            'B': self.napuni_2,\n",
    "            'C': self.sipaj_iz_1_u_2\n",
    "        }            "
   ]
  },
  {
   "cell_type": "code",
   "execution_count": 35,
   "metadata": {
    "collapsed": false
   },
   "outputs": [
    {
     "name": "stdout",
     "output_type": "stream",
     "text": [
      "0\t0\n",
      "4\t0\n",
      "0\t0\n",
      "0\t3\n"
     ]
    }
   ],
   "source": [
    "problem = Problem()\n",
    "\n",
    "start = problem.firstState()\n",
    "print start\n",
    "\n",
    "children = start.children(problem)\n",
    "for child in children:\n",
    "    print child\n"
   ]
  },
  {
   "cell_type": "code",
   "execution_count": null,
   "metadata": {
    "collapsed": true
   },
   "outputs": [],
   "source": []
  }
 ],
 "metadata": {
  "kernelspec": {
   "display_name": "Python 2",
   "language": "python",
   "name": "python2"
  },
  "language_info": {
   "codemirror_mode": {
    "name": "ipython",
    "version": 2
   },
   "file_extension": ".py",
   "mimetype": "text/x-python",
   "name": "python",
   "nbconvert_exporter": "python",
   "pygments_lexer": "ipython2",
   "version": "2.7.6"
  }
 },
 "nbformat": 4,
 "nbformat_minor": 2
}
