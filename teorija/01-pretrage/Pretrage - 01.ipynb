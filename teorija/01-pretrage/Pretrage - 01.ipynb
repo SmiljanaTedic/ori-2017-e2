{
 "cells": [
  {
   "cell_type": "markdown",
   "metadata": {},
   "source": [
    "# Primeri koji prate prezentaciju\n",
    "\n",
    "\n",
    "## 1.Problem dve posude\n"
   ]
  },
  {
   "cell_type": "code",
   "execution_count": 16,
   "metadata": {
    "collapsed": true
   },
   "outputs": [],
   "source": [
    "from copy import copy\n",
    "import random"
   ]
  },
  {
   "cell_type": "markdown",
   "metadata": {},
   "source": [
    "## Stanje\n",
    "\n",
    "Problemom je definisano da imamo dve posude, jedna sa max 4l vode i druga sa max 3l vode.\n"
   ]
  },
  {
   "cell_type": "code",
   "execution_count": 17,
   "metadata": {
    "collapsed": true
   },
   "outputs": [],
   "source": [
    "class State:\n",
    "    def __init__(self, A, B):\n",
    "        self.posuda_1 = A # 4 l\n",
    "        self.posuda_2 = B # 3 l\n",
    "        \n",
    "    def __str__(self):\n",
    "        return \"{0}\\t{1}\".format(self.posuda_1, self.posuda_2)\n"
   ]
  },
  {
   "cell_type": "markdown",
   "metadata": {},
   "source": [
    "## Problem\n",
    "U klasi Problem definisacemo funkcije 'isGoal', 'firstState' i listu akcija"
   ]
  },
  {
   "cell_type": "code",
   "execution_count": 18,
   "metadata": {
    "collapsed": true
   },
   "outputs": [],
   "source": [
    "class Problem:\n",
    "    def isGoal(self, state):\n",
    "        if state.posuda_1 == 2 or state.posuda_2 == 2 :\n",
    "            return True\n",
    "        else:\n",
    "            return False\n",
    "    \n",
    "    def firstState(self):\n",
    "        return State(0,0)\n",
    "    \n",
    "    def napuni_1(self, state):\n",
    "        s = copy(state)\n",
    "        s.posuda_1 = 4\n",
    "        return s\n",
    "\n",
    "    def napuni_2(self, state):\n",
    "        s = copy(state)\n",
    "        s.posuda_2 = 3\n",
    "        return s\n",
    "    \n",
    "    def sipaj_iz_1_u_2(self, state):\n",
    "        s = copy(state)\n",
    "        dp2 = 3 - s.posuda_2 # koliko mesta ima u 2\n",
    "        if(dp2>s.posuda_1):\n",
    "            s.posuda_2 += s.posuda_1\n",
    "            s.posuda_1 = 0\n",
    "        else:\n",
    "            dp1 = s.posuda_1 - dp2\n",
    "            s.posuda_1 = dp1\n",
    "            s.posuda_2 = 3\n",
    "        return s\n",
    "    \n",
    "    def sipaj_iz_2_u_1(self, state):\n",
    "        s = copy(state)\n",
    "        dp1 = 4 - s.posuda_1 # koliko mesta ima u 1\n",
    "        if(dp1>s.posuda_2):\n",
    "            s.posuda_1 += s.posuda_2\n",
    "            s.posuda_2 = 0\n",
    "        else:\n",
    "            dp2 = s.posuda_2 - dp1\n",
    "            s.posuda_2 = dp2\n",
    "            s.posuda_1 = 4\n",
    "        return s\n",
    "    \n",
    "    def prospi_1(self, state):\n",
    "        s = copy(state)\n",
    "        s.posuda_1 = 0\n",
    "        return s\n",
    "\n",
    "    def prospi_2(self, state):\n",
    "        s = copy(state)\n",
    "        s.posuda_2 = 0\n",
    "        return s    \n",
    "    \n",
    "    def akcije(self, state):\n",
    "        return {\n",
    "            'A': self.napuni_1,\n",
    "            'B': self.napuni_2,\n",
    "            'C': self.sipaj_iz_1_u_2,\n",
    "            'D': self.sipaj_iz_2_u_1,\n",
    "            'E': self.prospi_1,\n",
    "            'F': self.prospi_2\n",
    "        }                "
   ]
  },
  {
   "cell_type": "markdown",
   "metadata": {},
   "source": [
    "## Node\n",
    "Klasa Node sadrži neophodne informacije za generisanje stabla pretrage"
   ]
  },
  {
   "cell_type": "code",
   "execution_count": 19,
   "metadata": {
    "collapsed": false
   },
   "outputs": [],
   "source": [
    "   \n",
    "class Node:\n",
    "    def __init__(self, parent, action, state):\n",
    "        self.parent = parent\n",
    "        self.action = action\n",
    "        self.state = state\n",
    "        \n",
    "    def __str__(self):\n",
    "        return str(self.state)\n",
    "        \n",
    "    def children(self):\n",
    "        akcije = problem.akcije(self.state)\n",
    "        ret = []\n",
    "        for n in akcije:\n",
    "            ns = akcije[n](self.state)\n",
    "            nnode = Node(self, n, ns)\n",
    "            ret.append(nnode)\n",
    "        return ret\n"
   ]
  },
  {
   "cell_type": "markdown",
   "metadata": {},
   "source": [
    "## Algoritam prvi u dubinu\n",
    "\n",
    "\n"
   ]
  },
  {
   "cell_type": "code",
   "execution_count": 35,
   "metadata": {
    "collapsed": false
   },
   "outputs": [
    {
     "name": "stdout",
     "output_type": "stream",
     "text": [
      "4\t1 C 2\t3\n",
      "0\t1 A 4\t1\n",
      "1\t0 C 0\t1\n",
      "1\t3 F 1\t0\n",
      "4\t0 C 1\t3\n",
      "4\t2 F 4\t0\n",
      "3\t3 D 4\t2\n",
      "3\t0 B 3\t3\n",
      "0\t3 D 3\t0\n",
      "0\t0 B 0\t3\n",
      "reseno\n",
      "Broj koraka: 41\n",
      "Max velicina fronta: 30\n"
     ]
    }
   ],
   "source": [
    "problem = Problem()    \n",
    "start = problem.firstState()\n",
    "start_node = Node(None, None, start)\n",
    "\n",
    "\n",
    "\n",
    "front = [start_node]\n",
    "seen = {}\n",
    "c = 0\n",
    "max_front = 1\n",
    "while(len(front)>0):\n",
    "    #l = random.randint(0, len(front)-1)\n",
    "    max_front = max([max_front, len(front)])\n",
    "    node = front.pop(0)    \n",
    "    if problem.isGoal(node.state):\n",
    "        t = node\n",
    "        while t.parent != None:\n",
    "            print t.parent, t.action, t.state\n",
    "            t = t.parent\n",
    "        print 'reseno'\n",
    "        break\n",
    "    key = str(node.state)\n",
    "    if(key not in seen):\n",
    "        seen[key] = node\n",
    "        children = node.children()\n",
    "        for child in children:\n",
    "            #front.append(child)\n",
    "            front.insert(0, child) # dodavanje na pocetak\n",
    "    c += 1\n",
    "print 'Broj koraka: {0}'.format(c)\n",
    "print 'Max velicina fronta: {0}'.format(max_front)"
   ]
  },
  {
   "cell_type": "markdown",
   "metadata": {
    "collapsed": true
   },
   "source": [
    "## Algoritam prvi u širinu"
   ]
  },
  {
   "cell_type": "code",
   "execution_count": 36,
   "metadata": {
    "collapsed": false
   },
   "outputs": [
    {
     "name": "stdout",
     "output_type": "stream",
     "text": [
      "4\t1 C 2\t3\n",
      "0\t1 A 4\t1\n",
      "1\t0 C 0\t1\n",
      "1\t3 F 1\t0\n",
      "4\t0 C 1\t3\n",
      "0\t0 A 4\t0\n",
      "reseno\n",
      "Broj koraka: 62\n",
      "Max velicina fronta: 21\n"
     ]
    }
   ],
   "source": [
    "\n",
    "front = [start_node]\n",
    "seen = {}\n",
    "c = 0\n",
    "max_front = 1\n",
    "while(len(front)>0):\n",
    "    #l = random.randint(0, len(front)-1)\n",
    "    max_front = max([max_front, len(front)])\n",
    "    node = front.pop(0)    \n",
    "    if problem.isGoal(node.state):\n",
    "        t = node\n",
    "        while t.parent != None:\n",
    "            print t.parent, t.action, t.state\n",
    "            t = t.parent\n",
    "        print 'reseno'\n",
    "        break\n",
    "    key = str(node.state)\n",
    "    if(key not in seen):\n",
    "        seen[key] = node\n",
    "        children = node.children()\n",
    "        for child in children:\n",
    "            front.append(child)\n",
    "            #front.insert(0, child) # dodavanje na pocetak\n",
    "    c += 1\n",
    "print 'Broj koraka: {0}'.format(c)\n",
    "print 'Max velicina fronta: {0}'.format(max_front)"
   ]
  },
  {
   "cell_type": "markdown",
   "metadata": {
    "collapsed": true
   },
   "source": [
    "## Random search\n",
    "\n",
    "Za nastavak pretrage preuzima se slucajan element sa fronta"
   ]
  },
  {
   "cell_type": "code",
   "execution_count": 38,
   "metadata": {
    "collapsed": false
   },
   "outputs": [
    {
     "name": "stdout",
     "output_type": "stream",
     "text": [
      "4\t1 C 2\t3\n",
      "0\t1 A 4\t1\n",
      "1\t0 C 0\t1\n",
      "1\t3 F 1\t0\n",
      "4\t0 C 1\t3\n",
      "0\t0 A 4\t0\n",
      "reseno\n",
      "Broj koraka: 43\n",
      "Max velicina fronta: 30\n"
     ]
    }
   ],
   "source": [
    "\n",
    "front = [start_node]\n",
    "seen = {}\n",
    "c = 0\n",
    "max_front = 1\n",
    "while(len(front)>0):\n",
    "    l = random.randint(0, len(front)-1)\n",
    "    max_front = max([max_front, len(front)])\n",
    "    node = front.pop(l)    \n",
    "    if problem.isGoal(node.state):\n",
    "        t = node\n",
    "        while t.parent != None:\n",
    "            print t.parent, t.action, t.state\n",
    "            t = t.parent\n",
    "        print 'reseno'\n",
    "        break\n",
    "    key = str(node.state)\n",
    "    if(key not in seen):\n",
    "        seen[key] = node\n",
    "        children = node.children()\n",
    "        for child in children:\n",
    "            front.append(child)\n",
    "            #front.insert(0, child) # dodavanje na pocetak\n",
    "    c += 1\n",
    "print 'Broj koraka: {0}'.format(c)\n",
    "print 'Max velicina fronta: {0}'.format(max_front)"
   ]
  },
  {
   "cell_type": "code",
   "execution_count": null,
   "metadata": {
    "collapsed": true
   },
   "outputs": [],
   "source": []
  }
 ],
 "metadata": {
  "kernelspec": {
   "display_name": "Python 2",
   "language": "python",
   "name": "python2"
  },
  "language_info": {
   "codemirror_mode": {
    "name": "ipython",
    "version": 2
   },
   "file_extension": ".py",
   "mimetype": "text/x-python",
   "name": "python",
   "nbconvert_exporter": "python",
   "pygments_lexer": "ipython2",
   "version": "2.7.12"
  }
 },
 "nbformat": 4,
 "nbformat_minor": 2
}
