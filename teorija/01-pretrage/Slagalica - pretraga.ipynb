{
 "cells": [
  {
   "cell_type": "markdown",
   "metadata": {},
   "source": [
    "# Slagalica\n",
    "\n",
    "\n",
    "Problem rasporedjivanja elemenata\n",
    "```\n",
    "1 2 3 4\n",
    "5 6   7\n",
    "8 9 A B\n",
    "C D E F\n",
    "```\n",
    "tako da na kraju imaju oblik\n",
    "\n",
    "```\n",
    "1 2 3 4\n",
    "5 6 7 8\n",
    "9 A B C\n",
    "D E F \n",
    "\n",
    "```\n"
   ]
  },
  {
   "cell_type": "markdown",
   "metadata": {},
   "source": [
    "Kao i kod osalih primera se kreće dizajnom stanja problema. U ovom slučaju to će biti \n",
    "matrica.\n",
    "\n",
    "Heuristička funkcija kojom merimo koliko je neko stanje dobro u ovom slučaju će biti broj elemenata koji se nalaze na dobroj poziciji.\n",
    "\n",
    "## State"
   ]
  },
  {
   "cell_type": "code",
   "execution_count": 208,
   "metadata": {
    "collapsed": true
   },
   "outputs": [],
   "source": [
    "class State:\n",
    "    \"\"\"\n",
    "    A = [[1, 2, 3, 4],\n",
    "         [5, 6, 0, 7],\n",
    "         [8, 9, 10, 11],\n",
    "         [12, 13, 14, 15]]    \n",
    "    \"\"\"\n",
    "    def __init__(self, A):\n",
    "        self.tabla = A\n",
    "        \n",
    "    def h(self):\n",
    "        t = 0\n",
    "        c = 1\n",
    "        for i in range(4):\n",
    "            for j in range(4):\n",
    "                #print c, self.tabla[i][j], t\n",
    "                if self.tabla[i][j]==c:\n",
    "                    t+=1\n",
    "                c += 1\n",
    "        if self.tabla[3][3] == 0:\n",
    "            t+=1\n",
    "        return t\n",
    "        \n",
    "    def __str__(self):\n",
    "        A = self.tabla\n",
    "        s = \"\"\n",
    "        for i in range(4):\n",
    "            sep = \"\"\n",
    "            for j in range(4):\n",
    "                s += sep + '{:>4}'.format(A[i][j])\n",
    "                sep = \", \"\n",
    "            if i!=3:\n",
    "                s += \"\\n\"\n",
    "        return s"
   ]
  },
  {
   "cell_type": "markdown",
   "metadata": {},
   "source": [
    "### Test\n",
    "\n",
    "Najbolje je ako se odmah proveri da li osnovne funkcije rade kako treba"
   ]
  },
  {
   "cell_type": "code",
   "execution_count": 216,
   "metadata": {
    "collapsed": false
   },
   "outputs": [
    {
     "name": "stdout",
     "output_type": "stream",
     "text": [
      "   1,    2,    3,    4\n",
      "   5,    6,    0,    7\n",
      "   8,    9,   10,   11\n",
      "  12,   13,   14,   15\n",
      "6\n"
     ]
    }
   ],
   "source": [
    "A = [[1, 2, 3, 4],\n",
    "     [5, 6, 0, 7],\n",
    "     [8, 9, 10, 11],\n",
    "     [12, 13, 14, 15]]    \n",
    "\n",
    "s = State(A)\n",
    "print s\n",
    "print s.h()"
   ]
  },
  {
   "cell_type": "markdown",
   "metadata": {},
   "source": [
    "Sledeći korak je dizajn klase kojom opisujemo sam problem\n",
    "\n",
    "### Problem\n",
    "\n",
    "Potrebno je definisati funkcije\n",
    "- isGoal\n",
    "- firstState\n",
    "- akcije\n"
   ]
  },
  {
   "cell_type": "code",
   "execution_count": 218,
   "metadata": {
    "collapsed": false
   },
   "outputs": [],
   "source": [
    "from copy import deepcopy\n",
    "\n",
    "class Problem:\n",
    "    def isGoal(self, state):\n",
    "        t = state.h()\n",
    "        if t == 16:\n",
    "            return True\n",
    "        else:\n",
    "            return False\n",
    "    \n",
    "    def firstState(self):\n",
    "        A = [[1, 2, 3, 4],\n",
    "             [5, 0, 6, 8],\n",
    "             [9, 10, 7, 11],\n",
    "             [13, 14, 15, 12]]    \n",
    "        return State(A)\n",
    "    \n",
    "    def prazno(self, state):\n",
    "        for i in range(4):\n",
    "            for j in range(4):\n",
    "                if(state.tabla[i][j] == 0):\n",
    "                    return (i, j)\n",
    "        return (-1, -1)\n",
    "    \n",
    "    def akcije(self, state):\n",
    "        ret = []\n",
    "        smerovi = [('gore', 1, 0), ('dole', -1, 0), ('levo', 0, 1), ('desno', 0, -1)]\n",
    "        (i0, j0) = self.prazno(state)\n",
    "        for sm in smerovi:\n",
    "            ii = i0 + sm[1]\n",
    "            jj = j0 + sm[2]\n",
    "            if(ii>=0 and ii<=3 and jj>=0 and jj<=3):\n",
    "                s = deepcopy(state)\n",
    "                s.tabla[i0][j0] = s.tabla[ii][jj]\n",
    "                s.tabla[ii][jj] = 0\n",
    "                ret.append((sm[0], s))                    \n",
    "        return ret\n",
    "In [ ]:\n"
   ]
  },
  {
   "cell_type": "markdown",
   "metadata": {},
   "source": [
    "### Node\n",
    "\n",
    "Klasa Node u sebi sadrži neophodne elemente za formiranje stabla pretrage."
   ]
  },
  {
   "cell_type": "code",
   "execution_count": 220,
   "metadata": {
    "collapsed": false
   },
   "outputs": [],
   "source": [
    "class Node:\n",
    "    def __init__(self, parent, action, state):\n",
    "        self.parent = parent\n",
    "        self.action = action\n",
    "        self.state = state\n",
    "        \n",
    "    def __str__(self):\n",
    "        return str(self.state)\n",
    "        \n",
    "    def children(self):\n",
    "        max_h = h\n",
    "        akcije = problem.akcije(self.state)\n",
    "        ret = []\n",
    "        for ak in akcije:\n",
    "            nnode = Node(self, ak[0], ak[1])\n",
    "            ret.append(nnode)\n",
    "        return ret\n"
   ]
  },
  {
   "cell_type": "markdown",
   "metadata": {},
   "source": [
    "#### Test\n",
    "Još malo provere da li prethodno radi kako treba."
   ]
  },
  {
   "cell_type": "code",
   "execution_count": 221,
   "metadata": {
    "collapsed": false
   },
   "outputs": [
    {
     "name": "stdout",
     "output_type": "stream",
     "text": [
      "prazno: (1, 1)\n",
      "----------------------------------------\n",
      "   1,    2,    3,    4\n",
      "   5,   10,    6,    8\n",
      "   9,    0,    7,   11\n",
      "  13,   14,   15,   12\n",
      "gore\n",
      "10\n",
      "----------------------------------------\n",
      "   1,    0,    3,    4\n",
      "   5,    2,    6,    8\n",
      "   9,   10,    7,   11\n",
      "  13,   14,   15,   12\n",
      "dole\n",
      "10\n",
      "----------------------------------------\n",
      "   1,    2,    3,    4\n",
      "   5,    6,    0,    8\n",
      "   9,   10,    7,   11\n",
      "  13,   14,   15,   12\n",
      "levo\n",
      "12\n",
      "----------------------------------------\n",
      "   1,    2,    3,    4\n",
      "   0,    5,    6,    8\n",
      "   9,   10,    7,   11\n",
      "  13,   14,   15,   12\n",
      "desno\n",
      "10\n"
     ]
    }
   ],
   "source": [
    "problem = Problem()    \n",
    "start = problem.firstState()\n",
    "print 'prazno:', problem.prazno(start)\n",
    "\n",
    "start_node = Node(None, None, start)\n",
    "\n",
    "children = start_node.children()\n",
    "for child in children:\n",
    "    print '--'*20\n",
    "    print child\n",
    "    print child.action\n",
    "    print child.state.h()\n"
   ]
  },
  {
   "cell_type": "markdown",
   "metadata": {},
   "source": [
    "### Algoritam\n",
    "\n",
    "U ovoj implementaciji možete da menjate vrednost parametara:\n",
    "\n",
    "- slepa: True, False\n",
    "- strategija: 'bfs', 'dfs'"
   ]
  },
  {
   "cell_type": "code",
   "execution_count": 222,
   "metadata": {
    "collapsed": false
   },
   "outputs": [
    {
     "name": "stdout",
     "output_type": "stream",
     "text": [
      "reseno\n",
      "   1,    2,    3,    4\n",
      "   5,    6,    7,    8\n",
      "   9,   10,   11,   12\n",
      "  13,   14,   15,    0\n",
      "..........gore\n",
      "   1,    2,    3,    4\n",
      "   5,    6,    7,    8\n",
      "   9,   10,   11,    0\n",
      "  13,   14,   15,   12\n",
      "..........levo\n",
      "   1,    2,    3,    4\n",
      "   5,    6,    7,    8\n",
      "   9,   10,    0,   11\n",
      "  13,   14,   15,   12\n",
      "..........gore\n",
      "   1,    2,    3,    4\n",
      "   5,    6,    0,    8\n",
      "   9,   10,    7,   11\n",
      "  13,   14,   15,   12\n",
      "..........levo\n",
      "   1,    2,    3,    4\n",
      "   5,    0,    6,    8\n",
      "   9,   10,    7,   11\n",
      "  13,   14,   15,   12\n",
      "Broj koraka: 4\n",
      "Max velicina fronta: 9\n"
     ]
    }
   ],
   "source": [
    "slepa = False\n",
    "strategija = 'bfs'\n",
    "\n",
    "problem = Problem()    \n",
    "start = problem.firstState()\n",
    "start_node = Node(None, None, start)\n",
    "\n",
    "front = [start_node]\n",
    "seen = {}\n",
    "count = 0\n",
    "max_front = 1\n",
    "while(len(front)>0):   \n",
    "    if(slepa):\n",
    "        node = front.pop(0)        \n",
    "    else:\n",
    "        max_h = front[0].state.h()\n",
    "        max_el = 0\n",
    "        for i in range(len(front)):\n",
    "            h = front[i].state.h()\n",
    "            if h>max_h:\n",
    "                max_h = h\n",
    "                max_el = i\n",
    "        node = front.pop(max_el)        \n",
    "    \n",
    "    if problem.isGoal(node.state):\n",
    "        print 'reseno'\n",
    "        t = node\n",
    "        while t.parent != None:\n",
    "            print t.state\n",
    "            print '..........'+t.action\n",
    "            t = t.parent\n",
    "        print start_node\n",
    "        break\n",
    "    \n",
    "    max_front = max([max_front, len(front)])    \n",
    "    key = str(node.state)\n",
    "    if(key not in seen):\n",
    "        seen[key] = node\n",
    "        children = node.children()\n",
    "        for child in children:\n",
    "            if strategija == 'dfs':\n",
    "                front.insert(0, child) # dodavanje na pocetak\n",
    "            else:\n",
    "                front.append(child) # dodavanje na kraj\n",
    "    count += 1\n",
    "    if(count %100 == 0):\n",
    "        print count, len(front), max_h\n",
    "print 'Broj koraka: {0}'.format(count)\n",
    "print 'Max velicina fronta: {0}'.format(max_front)"
   ]
  },
  {
   "cell_type": "markdown",
   "metadata": {
    "collapsed": true
   },
   "source": [
    "## Domaći\n",
    "\n",
    "### 1. Lavirint\n",
    "\n",
    "Ako je dat lavirint\n",
    "```\n",
    "+--+---------+-----------------+---------+\n",
    "|  |         |                 | C       |\n",
    "|  +  +----  +-------   +------+------   |\n",
    "|   A |                 |                |\n",
    "|  +--+-------------+   +----+   +-------+\n",
    "|                   |                    |\n",
    "|  +-------------   +------------+   +---+\n",
    "|                                        |\n",
    "+----------------------------------------+\n",
    "```\n",
    "a) Pronaći najkraći put\n",
    "\n",
    "b) Pronaći sve puteve\n",
    "\n"
   ]
  },
  {
   "cell_type": "markdown",
   "metadata": {},
   "source": [
    "### 2. Sistem linearnih algebarskih jednačina\n",
    "\n",
    "Ako je dat sistem algebarskih jednačina:\n",
    "\n",
    "$$ \\begin{array}{}\n",
    "  a_{1,1}x_1+a_{1,2}x_2+a_{1,3}x_3+a_{1,4}x_4 = b_1 \\\\\n",
    "  a_{2,1}x_1+a_{2,2}x_2+a_{2,3}x_3+a_{2,4}x_4 = b_2 \\\\\n",
    "  a_{3,1}x_1+a_{3,2}x_2+a_{3,3}x_3+a_{3,4}x_4 = b_3 \\\\\n",
    "  a_{4,1}x_1+a_{4,2}x_2+a_{4,3}x_3+a_{4,4}x_4 = b_4\n",
    "  \\end{array}\n",
    "$$\n",
    "\n",
    "Pronaći približne vrednosti za $x_1, x_2, x_3, x_4$ takve da budu rešenje sistema.\n"
   ]
  },
  {
   "cell_type": "code",
   "execution_count": null,
   "metadata": {
    "collapsed": true
   },
   "outputs": [],
   "source": []
  }
 ],
 "metadata": {
  "kernelspec": {
   "display_name": "Python 2",
   "language": "python",
   "name": "python2"
  }
 },
 "nbformat": 4,
 "nbformat_minor": 2
}
