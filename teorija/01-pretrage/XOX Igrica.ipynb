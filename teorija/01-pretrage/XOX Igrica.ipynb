{
 "cells": [
  {
   "cell_type": "markdown",
   "metadata": {},
   "source": [
    "# XOX Igra \n",
    "\n",
    "```\n",
    "  |  |\n",
    "--+--+--\n",
    "  |  |\n",
    "--+--+--\n",
    "  |  |\n",
    "```"
   ]
  },
  {
   "cell_type": "code",
   "execution_count": 1,
   "metadata": {
    "collapsed": true
   },
   "outputs": [],
   "source": [
    "from copy import copy\n",
    "import random"
   ]
  },
  {
   "cell_type": "markdown",
   "metadata": {},
   "source": [
    "## Stanje\n",
    "\n",
    "Stanje je matrica 3x3 karaktera\n",
    "- '' prazno\n",
    "- 'x'\n",
    "- 'o'"
   ]
  },
  {
   "cell_type": "code",
   "execution_count": 2,
   "metadata": {
    "collapsed": false
   },
   "outputs": [],
   "source": [
    "class State:\n",
    "    \"\"\"\n",
    "    A = [[' ',' ',' '],\n",
    "         [' ','x','o'],\n",
    "         [' ',' ','x']]    \n",
    "    \"\"\"\n",
    "    def __init__(self, A, C):\n",
    "        self.tabla = A\n",
    "        self.c = C\n",
    "        \n",
    "    def __str__(self):\n",
    "        A = self.tabla\n",
    "        s = \"{0}|{1}|{2}\\n\".format(A[0][0],A[0][1],A[0][2])\n",
    "        s += \"-+-+-\\n\"\n",
    "        s += \"{0}|{1}|{2}\\n\".format(A[1][0],A[1][1],A[1][2])\n",
    "        s += \"-+-+-\\n\"\n",
    "        s += \"{0}|{1}|{2}\\n\".format(A[2][0],A[2][1],A[2][2])\n",
    "        return s"
   ]
  },
  {
   "cell_type": "code",
   "execution_count": 3,
   "metadata": {
    "collapsed": false
   },
   "outputs": [
    {
     "name": "stdout",
     "output_type": "stream",
     "text": [
      " | |o\n",
      "-+-+-\n",
      " |x| \n",
      "-+-+-\n",
      " | |o\n",
      "\n"
     ]
    }
   ],
   "source": [
    "A = [[' ',' ','o'],\n",
    "     [' ','x',' '],\n",
    "     [' ',' ','o']]    \n",
    "state = State(A, 'x')\n",
    "print state"
   ]
  },
  {
   "cell_type": "markdown",
   "metadata": {},
   "source": [
    "## Problem\n"
   ]
  },
  {
   "cell_type": "code",
   "execution_count": 4,
   "metadata": {
    "collapsed": false
   },
   "outputs": [],
   "source": [
    "from copy import deepcopy\n",
    "\n",
    "class Problem:\n",
    "    def isGoal(self, state, c):\n",
    "        #provera u koloni\n",
    "        for i in range(3):\n",
    "            t = 0\n",
    "            for j in range(3):\n",
    "                if state.tabla[i][j] == c:\n",
    "                    t += 1\n",
    "            if t == 3:\n",
    "                return True\n",
    "        #provera u redu\n",
    "        for j in range(3):\n",
    "            t = 0\n",
    "            for i in range(3):\n",
    "                if state.tabla[i][j] == c:\n",
    "                    t += 1\n",
    "            if t == 3:\n",
    "                return True                \n",
    "        # provera u dijagonali\n",
    "        t = 0\n",
    "        for i in [0, 1, 2]:\n",
    "            if state.tabla[i][i] == c:\n",
    "                t += 1\n",
    "        if t == 3:\n",
    "            return True\n",
    "        # provera u dijagonali\n",
    "        t = 0\n",
    "        for i in [0, 1, 2]:\n",
    "            if state.tabla[i][2-i] == c:\n",
    "                t += 1\n",
    "        if t == 3:\n",
    "            return True\n",
    "        return False\n",
    "    \n",
    "    def firstState(self, c):\n",
    "        S = [[' ',' ',' '],\n",
    "             [' ',' ',' '],\n",
    "             [' ',' ',' ']] \n",
    "        return State(S, c)\n",
    "       \n",
    "    def akcije(self, state, cc):        \n",
    "        ret = []\n",
    "        for i in range(3):\n",
    "            for j in range(3):\n",
    "                s = deepcopy(state)\n",
    "                if s.tabla[i][j] == ' ':\n",
    "                    s.tabla[i][j] = cc\n",
    "                    s.c = cc\n",
    "                    ret.append(s)                    \n",
    "        return ret\n"
   ]
  },
  {
   "cell_type": "markdown",
   "metadata": {},
   "source": [
    "## Node\n"
   ]
  },
  {
   "cell_type": "code",
   "execution_count": 5,
   "metadata": {
    "collapsed": true
   },
   "outputs": [],
   "source": [
    "   \n",
    "class Node:\n",
    "    def __init__(self, parent, action, state):\n",
    "        self.parent = parent\n",
    "        self.action = action\n",
    "        self.state = state\n",
    "        \n",
    "    def __str__(self):\n",
    "        return str(self.state)\n",
    "        \n",
    "    def children(self, c):\n",
    "        akcije = problem.akcije(self.state, c)\n",
    "        ret = []\n",
    "        for n in akcije:\n",
    "            nnode = Node(self, '-', n)\n",
    "            ret.append(nnode)\n",
    "        return ret\n",
    "    "
   ]
  },
  {
   "cell_type": "markdown",
   "metadata": {},
   "source": [
    "## Pretrazivanje prvi u dubinu\n"
   ]
  },
  {
   "cell_type": "code",
   "execution_count": 6,
   "metadata": {
    "collapsed": false
   },
   "outputs": [
    {
     "name": "stdout",
     "output_type": "stream",
     "text": [
      " | |x\n",
      "-+-+-\n",
      "o|x|o\n",
      "-+-+-\n",
      "x|o|x\n",
      "\n",
      "..........\n",
      " | | \n",
      "-+-+-\n",
      "o|x|o\n",
      "-+-+-\n",
      "x|o|x\n",
      "\n",
      "..........\n",
      " | | \n",
      "-+-+-\n",
      " |x|o\n",
      "-+-+-\n",
      "x|o|x\n",
      "\n",
      "..........\n",
      " | | \n",
      "-+-+-\n",
      " | |o\n",
      "-+-+-\n",
      "x|o|x\n",
      "\n",
      "..........\n",
      " | | \n",
      "-+-+-\n",
      " | | \n",
      "-+-+-\n",
      "x|o|x\n",
      "\n",
      "..........\n",
      " | | \n",
      "-+-+-\n",
      " | | \n",
      "-+-+-\n",
      " |o|x\n",
      "\n",
      "..........\n",
      " | | \n",
      "-+-+-\n",
      " | | \n",
      "-+-+-\n",
      " | |x\n",
      "\n",
      "..........\n",
      "reseno\n",
      "Broj koraka: 7\n",
      "Max velicina fronta: 36\n"
     ]
    }
   ],
   "source": [
    "problem = Problem()    \n",
    "start = problem.firstState('o')\n",
    "start_node = Node(None, None, start)\n",
    "\n",
    "\n",
    "front = [start_node]\n",
    "seen = {}\n",
    "count = 0\n",
    "max_front = 1\n",
    "while(len(front)>0):\n",
    "    max_front = max([max_front, len(front)])\n",
    "    node = front.pop(0)    \n",
    "    if problem.isGoal(node.state, 'x') and not problem.isGoal(node.state, 'o'):\n",
    "        t = node\n",
    "        while t.parent != None:\n",
    "            print t.state\n",
    "            print '..........'\n",
    "            t = t.parent\n",
    "        print 'reseno'\n",
    "        break\n",
    "    key = str(node.state)\n",
    "    if(key not in seen):\n",
    "        seen[key] = node\n",
    "        cc = 'o'\n",
    "        if(node.state.c == 'o'):\n",
    "            cc = 'x'\n",
    "        children = node.children(cc)\n",
    "        for child in children:\n",
    "            front.insert(0, child) # dodavanje na pocetak\n",
    "            #front.append(child) # dodavanje na kraj\n",
    "    count += 1\n",
    "print 'Broj koraka: {0}'.format(count)\n",
    "print 'Max velicina fronta: {0}'.format(max_front)"
   ]
  },
  {
   "cell_type": "markdown",
   "metadata": {
    "collapsed": true
   },
   "source": [
    "# Izbor najboljeg poteza\n",
    "\n",
    "Ako obelezimo pozicije na tabli sa:\n",
    "```\n",
    "0  1  2\n",
    "3  4  5\n",
    "6  7  8\n",
    "```\n",
    "od\n"
   ]
  },
  {
   "cell_type": "code",
   "execution_count": null,
   "metadata": {
    "collapsed": true
   },
   "outputs": [],
   "source": []
  },
  {
   "cell_type": "code",
   "execution_count": null,
   "metadata": {
    "collapsed": true
   },
   "outputs": [],
   "source": []
  }
 ],
 "metadata": {
  "kernelspec": {
   "display_name": "Python 2",
   "language": "python",
   "name": "python2"
  },
  "language_info": {
   "codemirror_mode": {
    "name": "ipython",
    "version": 2
   },
   "file_extension": ".py",
   "mimetype": "text/x-python",
   "name": "python",
   "nbconvert_exporter": "python",
   "pygments_lexer": "ipython2",
   "version": "2.7.6"
  }
 },
 "nbformat": 4,
 "nbformat_minor": 2
}
