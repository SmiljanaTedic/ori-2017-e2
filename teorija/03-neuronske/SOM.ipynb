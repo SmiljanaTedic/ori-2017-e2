{
 "cells": [
  {
   "cell_type": "markdown",
   "metadata": {},
   "source": [
    "# SOM\n"
   ]
  },
  {
   "cell_type": "code",
   "execution_count": 100,
   "metadata": {
    "collapsed": false
   },
   "outputs": [],
   "source": [
    "import numpy as np\n",
    "\n",
    "class Neuron:\n",
    "    def __init__(self, x, y, length):\n",
    "        self.x = x\n",
    "        self.y = y\n",
    "        self.length = length\n",
    "        self.nf = 1000/10000000.\n",
    "        self.w = [np.random.uniform(0,1) for i in range(self.length)]\n",
    "        #print self.x, self.y, self.w\n",
    "        \n",
    "    def distance(self, example):\n",
    "        return np.sqrt(np.sum((self.w-example)**2))        \n",
    "        \n",
    "    def gauss(self, win, it):\n",
    "        r2 = (win.x-self.x)**2+(win.y-self.y)**2\n",
    "        sigma = self.gain(it)\n",
    "        A = 1/(2.0*np.pi*sigma**2)\n",
    "        g = A*np.exp(-r2/(2.0*sigma**2))\n",
    "        return g\n",
    "    \n",
    "    def gain(self, it):\n",
    "        return np.exp(-it/self.nf)\n",
    "    \n",
    "    def learningRate(self, it):\n",
    "        return 0.01*np.exp(-it/1000)\n",
    "                       \n",
    "    def update(self, example, win, it):      \n",
    "        lr = self.learningRate(it)\n",
    "        gg = self.gauss(win, it)\n",
    "        \n",
    "        dw = lr*gg*(example-self.w)\n",
    "        self.w += dw\n",
    "        return np.sum(dw**2)\n"
   ]
  },
  {
   "cell_type": "code",
   "execution_count": null,
   "metadata": {
    "collapsed": false
   },
   "outputs": [],
   "source": []
  },
  {
   "cell_type": "code",
   "execution_count": 102,
   "metadata": {
    "collapsed": false
   },
   "outputs": [],
   "source": [
    "class SOM:\n",
    "    def __init__(self, dim, length):\n",
    "        self.dim = dim\n",
    "        self.length = length\n",
    "        #self.neurons = [[Neuron(i,j, self.length) for j in range(self.dim)] for i in range(self.dim)]        \n",
    "        self.neurons = []\n",
    "        for i in range(self.dim):\n",
    "            el = []\n",
    "            for j in range(self.dim):\n",
    "                neuron = Neuron(i, j, self.length)\n",
    "                el.append(neuron)\n",
    "            self.neurons.append(el)\n",
    "    \n",
    "    def debug(self):\n",
    "        for i in range(self.dim):\n",
    "            for j in range(self.dim):\n",
    "                neuron = self.neurons[i][j]\n",
    "                print i, j, neuron.w\n",
    "        \n",
    "    def winner(self, example):\n",
    "        retVal = self.neurons[0][0]\n",
    "        _min = retVal.distance(example)\n",
    "        for i in range(self.dim):\n",
    "            for j in range(self.dim):\n",
    "                neuron = self.neurons[i][j]\n",
    "                d = neuron.distance(example)\n",
    "                if d<_min:\n",
    "                    _min = d\n",
    "                    retVal = neuron\n",
    "        return retVal\n",
    "    \n",
    "    def update(self, example, it):\n",
    "        error = 0\n",
    "        winner = self.winner(example)\n",
    "        for i in range(self.dim):\n",
    "            for j in range(self.dim):\n",
    "                neuron = self.neurons[i][j]\n",
    "                error += neuron.update(example, winner, it)\n",
    "        return error/float(self.dim**2)\n",
    "                        \n",
    "    \n",
    "    def fit(self, examples):\n",
    "        maxerr = 0.001\n",
    "        blok = 100\n",
    "        for it in range(1000):\n",
    "            err = 0\n",
    "            n = 100\n",
    "            for i in range(n):\n",
    "                el = random.choice(examples)\n",
    "                err += self.update(el, it)\n",
    "            err = err/float(n)\n",
    "            if err<maxerr:\n",
    "                print '---- obucen -----'\n",
    "                break\n",
    "            print err\n"
   ]
  },
  {
   "cell_type": "code",
   "execution_count": null,
   "metadata": {
    "collapsed": false
   },
   "outputs": [],
   "source": []
  },
  {
   "cell_type": "code",
   "execution_count": 103,
   "metadata": {
    "collapsed": false
   },
   "outputs": [],
   "source": [
    "import random\n",
    "\n",
    "_examples = [[0,0], [10,10], [0,10], [10,0]]\n",
    "examples = []\n",
    "\n",
    "for el in _examples:\n",
    "    for r in range(20):\n",
    "        da = random.uniform(-2, 2)\n",
    "        db = random.uniform(-1, 1)\n",
    "        examples.append([el[0]+da, el[1]+db])\n",
    "\n",
    "examples = np.array(examples)"
   ]
  },
  {
   "cell_type": "code",
   "execution_count": 104,
   "metadata": {
    "collapsed": false
   },
   "outputs": [
    {
     "data": {
      "image/png": "[encoded data removed]",
      "text/plain": [
       "<matplotlib.figure.Figure at 0x7f5f28f64950>"
      ]
     },
     "metadata": {},
     "output_type": "display_data"
    }
   ],
   "source": [
    "import math\n",
    "import matplotlib.pyplot as plt\n",
    "%matplotlib inline\n",
    "\n",
    "plt.scatter(examples[:,0], examples[:,1], c='r')\n",
    "\n",
    "plt.grid(True)\n"
   ]
  },
  {
   "cell_type": "code",
   "execution_count": 105,
   "metadata": {
    "collapsed": true
   },
   "outputs": [],
   "source": [
    "som = SOM(2, 2)"
   ]
  },
  {
   "cell_type": "code",
   "execution_count": 106,
   "metadata": {
    "collapsed": false
   },
   "outputs": [
    {
     "name": "stdout",
     "output_type": "stream",
     "text": [
      "---- obucen -----\n"
     ]
    }
   ],
   "source": [
    "som.fit(examples)"
   ]
  },
  {
   "cell_type": "code",
   "execution_count": 107,
   "metadata": {
    "collapsed": false
   },
   "outputs": [
    {
     "name": "stdout",
     "output_type": "stream",
     "text": [
      "0 0 [ 0.75004755  1.01543498]\n",
      "0 1 [ 0.91555166  1.27941928]\n",
      "1 0 [ 1.56996113  1.67970461]\n",
      "1 1 [ 0.66013776  0.66544296]\n"
     ]
    }
   ],
   "source": [
    "som.debug()"
   ]
  },
  {
   "cell_type": "code",
   "execution_count": null,
   "metadata": {
    "collapsed": true
   },
   "outputs": [],
   "source": []
  }
 ],
 "metadata": {
  "kernelspec": {
   "display_name": "Python 2",
   "language": "python",
   "name": "python2"
  },
  "language_info": {
   "codemirror_mode": {
    "name": "ipython",
    "version": 2
   },
   "file_extension": ".py",
   "mimetype": "text/x-python",
   "name": "python",
   "nbconvert_exporter": "python",
   "pygments_lexer": "ipython2",
   "version": "2.7.6"
  }
 },
 "nbformat": 4,
 "nbformat_minor": 2
}
